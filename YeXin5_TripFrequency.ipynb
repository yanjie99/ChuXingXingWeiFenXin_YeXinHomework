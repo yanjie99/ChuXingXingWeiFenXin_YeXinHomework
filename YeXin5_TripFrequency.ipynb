{
 "cells": [
  {
   "cell_type": "code",
   "execution_count": 1,
   "id": "81348b47",
   "metadata": {
    "ExecuteTime": {
     "end_time": "2021-11-21T07:16:34.816143Z",
     "start_time": "2021-11-21T07:16:34.515264Z"
    }
   },
   "outputs": [],
   "source": [
    "import pandas as pd"
   ]
  },
  {
   "cell_type": "markdown",
   "id": "21ae5f9b",
   "metadata": {},
   "source": [
    "# Worker 平均每日出行"
   ]
  },
  {
   "cell_type": "code",
   "execution_count": 3,
   "id": "34fec9a7",
   "metadata": {
    "ExecuteTime": {
     "end_time": "2021-11-21T07:17:45.333933Z",
     "start_time": "2021-11-21T07:17:45.270038Z"
    }
   },
   "outputs": [
    {
     "name": "stdout",
     "output_type": "stream",
     "text": [
      "初步统计人数： 1339\n",
      "矫正后统计人数： 2046\n"
     ]
    }
   ],
   "source": [
    "data_w = pd.read_csv('data_worker.csv')\n",
    "# 初步统计人数，有的人统计了两道三天内的活动\n",
    "print('初步统计人数：', len(data_w.groupby('new_id')))\n",
    "# 量化一天内有多少人\n",
    "data_w['人数'] = data_w['BegTime'] == 0\n",
    "data_w_2 = data_w[data_w['人数']]\n",
    "num = len(data_w_2)\n",
    "print('矫正后统计人数：', num)"
   ]
  },
  {
   "cell_type": "code",
   "execution_count": 5,
   "id": "1b5f779a",
   "metadata": {
    "ExecuteTime": {
     "end_time": "2021-11-21T07:20:24.373295Z",
     "start_time": "2021-11-21T07:20:24.336400Z"
    }
   },
   "outputs": [
    {
     "name": "stdout",
     "output_type": "stream",
     "text": [
      "平均回家行程次数： 1.388\n",
      "平均工作行程次数： 1.03\n",
      "平均上学行程次数： 0.0\n",
      "平均购物行程次数： 0.907\n",
      "平均社交娱乐行程次数： 0.353\n",
      "平均就医路行程次数： 0.068\n",
      "平均接送他人行程次数： 0.214\n",
      "平均其它事情行程次数： 0.229\n"
     ]
    },
    {
     "name": "stderr",
     "output_type": "stream",
     "text": [
      "D:\\Anaconda\\envs\\geo_env\\lib\\site-packages\\pandas\\core\\frame.py:3607: SettingWithCopyWarning: \n",
      "A value is trying to be set on a copy of a slice from a DataFrame.\n",
      "Try using .loc[row_indexer,col_indexer] = value instead\n",
      "\n",
      "See the caveats in the documentation: https://pandas.pydata.org/pandas-docs/stable/user_guide/indexing.html#returning-a-view-versus-a-copy\n",
      "  self._set_item(key, value)\n"
     ]
    }
   ],
   "source": [
    "data_w['travel'] = data_w['ActType'] == -2\n",
    "data_w_travel = data_w[data_w['travel']]\n",
    "# 回家行程每日平均次数\n",
    "data_w_travel['home_travel'] = data_w_travel['D_pur'] == 1\n",
    "home_travel = data_w_travel[data_w_travel['home_travel']]\n",
    "t1 = round(len(home_travel) / num, 3)\n",
    "print('平均回家行程次数：', t1)\n",
    "# 工作行程每日平均次数\n",
    "data_w_travel['work_travel'] = (data_w_travel['D_pur'] == 2)|(data_w_travel['D_pur'] == 3)|(data_w_travel['D_pur'] == 4)|(data_w_travel['D_pur'] == 5)\n",
    "work_travel = data_w_travel[data_w_travel['work_travel']]\n",
    "t2 = round(len(work_travel) / num, 3)\n",
    "print('平均工作行程次数：', t2)\n",
    "# 上学行程每日平均次数\n",
    "data_w_travel['school_travel'] = data_w_travel['D_pur'] == 8\n",
    "school_travel = data_w_travel[data_w_travel['school_travel']]\n",
    "t3 = round(len(school_travel) / num, 3)\n",
    "print('平均上学行程次数：', t3)\n",
    "# 购物行程每日平均次数\n",
    "data_w_travel['shopping_travel'] = (data_w_travel['D_pur'] == 11)|(data_w_travel['D_pur'] == 13)|(data_w_travel['D_pur'] == 12)\n",
    "shopping_travel = data_w_travel[data_w_travel['shopping_travel']]\n",
    "t4 = round(len(shopping_travel) / num, 3)\n",
    "print('平均购物行程次数：', t4)\n",
    "# 社交娱乐行程每日平均次数\n",
    "data_w_travel['creation_travel'] = (data_w_travel['D_pur'] == 15)|(data_w_travel['D_pur'] == 16)|(data_w_travel['D_pur'] == 17)\n",
    "creation_travel = data_w_travel[data_w_travel['creation_travel']]\n",
    "t5 = round(len(creation_travel) / num, 3)\n",
    "print('平均社交娱乐行程次数：', t5)\n",
    "# 就医行程每日平均次数\n",
    "data_w_travel['dailycare_travel'] = data_w_travel['D_pur'] == 18\n",
    "dailycare_travel = data_w_travel[data_w_travel['dailycare_travel']]\n",
    "t6 = round(len(dailycare_travel) / num, 3)\n",
    "print('平均就医路行程次数：', t6)\n",
    "# 接送行程每日平均次数\n",
    "data_w_travel['jiesong_travel'] = data_w_travel['D_pur'] == 6\n",
    "jiesong_travel = data_w_travel[data_w_travel['jiesong_travel']]\n",
    "t7 = round(len(jiesong_travel) / num, 3)\n",
    "print('平均接送他人行程次数：', t7)\n",
    "# 其它行程每日平均次数\n",
    "data_w_travel['other_travel'] = (data_w_travel['D_pur'] == 7)|(data_w_travel['D_pur'] == 9)|(data_w_travel['D_pur'] == 10)|(data_w_travel['D_pur'] == 14)|(data_w_travel['D_pur'] == 19)\n",
    "other_travel = data_w_travel[data_w_travel['other_travel']]\n",
    "t8 = round(len(other_travel) / num, 3)\n",
    "print('平均其它事情行程次数：', t8)"
   ]
  },
  {
   "cell_type": "code",
   "execution_count": 6,
   "id": "9c7d4e26",
   "metadata": {
    "ExecuteTime": {
     "end_time": "2021-11-21T07:20:43.459780Z",
     "start_time": "2021-11-21T07:20:43.440824Z"
    }
   },
   "outputs": [
    {
     "data": {
      "text/html": [
       "<div>\n",
       "<style scoped>\n",
       "    .dataframe tbody tr th:only-of-type {\n",
       "        vertical-align: middle;\n",
       "    }\n",
       "\n",
       "    .dataframe tbody tr th {\n",
       "        vertical-align: top;\n",
       "    }\n",
       "\n",
       "    .dataframe thead th {\n",
       "        text-align: right;\n",
       "    }\n",
       "</style>\n",
       "<table border=\"1\" class=\"dataframe\">\n",
       "  <thead>\n",
       "    <tr style=\"text-align: right;\">\n",
       "      <th></th>\n",
       "      <th>回家</th>\n",
       "      <th>工作</th>\n",
       "      <th>上学</th>\n",
       "      <th>购物</th>\n",
       "      <th>社交娱乐</th>\n",
       "      <th>就医</th>\n",
       "      <th>接送他人</th>\n",
       "      <th>其它</th>\n",
       "    </tr>\n",
       "  </thead>\n",
       "  <tbody>\n",
       "    <tr>\n",
       "      <th>0</th>\n",
       "      <td>1.388</td>\n",
       "      <td>1.03</td>\n",
       "      <td>0.0</td>\n",
       "      <td>0.907</td>\n",
       "      <td>0.353</td>\n",
       "      <td>0.068</td>\n",
       "      <td>0.214</td>\n",
       "      <td>0.229</td>\n",
       "    </tr>\n",
       "  </tbody>\n",
       "</table>\n",
       "</div>"
      ],
      "text/plain": [
       "      回家    工作   上学     购物   社交娱乐     就医   接送他人     其它\n",
       "0  1.388  1.03  0.0  0.907  0.353  0.068  0.214  0.229"
      ]
     },
     "execution_count": 6,
     "metadata": {},
     "output_type": "execute_result"
    }
   ],
   "source": [
    "worker_list = []\n",
    "worker_list.append(t1)\n",
    "name_list = ['回家', '工作', '上学', '购物', '社交娱乐', '就医', '接送他人', '其它']\n",
    "worker_list.append(t2)\n",
    "worker_list.append(t3)\n",
    "worker_list.append(t4)\n",
    "worker_list.append(t5)\n",
    "worker_list.append(t6)\n",
    "worker_list.append(t7)\n",
    "worker_list.append(t8)\n",
    "worker = pd.DataFrame([worker_list], columns=name_list)\n",
    "worker"
   ]
  },
  {
   "cell_type": "markdown",
   "id": "57f0b36b",
   "metadata": {
    "ExecuteTime": {
     "end_time": "2021-11-21T07:17:19.758377Z",
     "start_time": "2021-11-21T07:17:19.752394Z"
    }
   },
   "source": [
    "# Student 平均每日出行"
   ]
  },
  {
   "cell_type": "code",
   "execution_count": 7,
   "id": "2f0841d9",
   "metadata": {
    "ExecuteTime": {
     "end_time": "2021-11-21T07:21:11.750500Z",
     "start_time": "2021-11-21T07:21:11.726565Z"
    }
   },
   "outputs": [
    {
     "name": "stdout",
     "output_type": "stream",
     "text": [
      "初步统计人数： 388\n",
      "矫正后统计人数： 432\n"
     ]
    }
   ],
   "source": [
    "data_w = pd.read_csv('data_student.csv')\n",
    "# 初步统计人数，有的人统计了两道三天内的活动\n",
    "print('初步统计人数：', len(data_w.groupby('new_id')))\n",
    "# 量化一天内有多少人\n",
    "data_w['人数'] = data_w['BegTime'] == 0\n",
    "data_w_2 = data_w[data_w['人数']]\n",
    "num = len(data_w_2)\n",
    "print('矫正后统计人数：', num)"
   ]
  },
  {
   "cell_type": "code",
   "execution_count": 8,
   "id": "ce636df7",
   "metadata": {
    "ExecuteTime": {
     "end_time": "2021-11-21T07:21:23.442852Z",
     "start_time": "2021-11-21T07:21:23.400009Z"
    }
   },
   "outputs": [
    {
     "name": "stdout",
     "output_type": "stream",
     "text": [
      "平均回家行程次数： 1.356\n",
      "平均工作行程次数： 0.116\n",
      "平均上学行程次数： 0.963\n",
      "平均购物行程次数： 0.414\n",
      "平均社交娱乐行程次数： 0.294\n",
      "平均就医路行程次数： 0.025\n",
      "平均接送他人行程次数： 0.225\n",
      "平均其它事情行程次数： 0.208\n"
     ]
    },
    {
     "name": "stderr",
     "output_type": "stream",
     "text": [
      "D:\\Anaconda\\envs\\geo_env\\lib\\site-packages\\pandas\\core\\frame.py:3607: SettingWithCopyWarning: \n",
      "A value is trying to be set on a copy of a slice from a DataFrame.\n",
      "Try using .loc[row_indexer,col_indexer] = value instead\n",
      "\n",
      "See the caveats in the documentation: https://pandas.pydata.org/pandas-docs/stable/user_guide/indexing.html#returning-a-view-versus-a-copy\n",
      "  self._set_item(key, value)\n"
     ]
    }
   ],
   "source": [
    "data_w['travel'] = data_w['ActType'] == -2\n",
    "data_w_travel = data_w[data_w['travel']]\n",
    "# 回家行程每日平均次数\n",
    "data_w_travel['home_travel'] = data_w_travel['D_pur'] == 1\n",
    "home_travel = data_w_travel[data_w_travel['home_travel']]\n",
    "t1 = round(len(home_travel) / num, 3)\n",
    "print('平均回家行程次数：', t1)\n",
    "# 工作行程每日平均次数\n",
    "data_w_travel['work_travel'] = (data_w_travel['D_pur'] == 2)|(data_w_travel['D_pur'] == 3)|(data_w_travel['D_pur'] == 4)|(data_w_travel['D_pur'] == 5)\n",
    "work_travel = data_w_travel[data_w_travel['work_travel']]\n",
    "t2 = round(len(work_travel) / num, 3)\n",
    "print('平均工作行程次数：', t2)\n",
    "# 上学行程每日平均次数\n",
    "data_w_travel['school_travel'] = data_w_travel['D_pur'] == 8\n",
    "school_travel = data_w_travel[data_w_travel['school_travel']]\n",
    "t3 = round(len(school_travel) / num, 3)\n",
    "print('平均上学行程次数：', t3)\n",
    "# 购物行程每日平均次数\n",
    "data_w_travel['shopping_travel'] = (data_w_travel['D_pur'] == 11)|(data_w_travel['D_pur'] == 13)|(data_w_travel['D_pur'] == 12)\n",
    "shopping_travel = data_w_travel[data_w_travel['shopping_travel']]\n",
    "t4 = round(len(shopping_travel) / num, 3)\n",
    "print('平均购物行程次数：', t4)\n",
    "# 社交娱乐行程每日平均次数\n",
    "data_w_travel['creation_travel'] = (data_w_travel['D_pur'] == 15)|(data_w_travel['D_pur'] == 16)|(data_w_travel['D_pur'] == 17)\n",
    "creation_travel = data_w_travel[data_w_travel['creation_travel']]\n",
    "t5 = round(len(creation_travel) / num, 3)\n",
    "print('平均社交娱乐行程次数：', t5)\n",
    "# 就医行程每日平均次数\n",
    "data_w_travel['dailycare_travel'] = data_w_travel['D_pur'] == 18\n",
    "dailycare_travel = data_w_travel[data_w_travel['dailycare_travel']]\n",
    "t6 = round(len(dailycare_travel) / num, 3)\n",
    "print('平均就医路行程次数：', t6)\n",
    "# 接送行程每日平均次数\n",
    "data_w_travel['jiesong_travel'] = data_w_travel['D_pur'] == 6\n",
    "jiesong_travel = data_w_travel[data_w_travel['jiesong_travel']]\n",
    "t7 = round(len(jiesong_travel) / num, 3)\n",
    "print('平均接送他人行程次数：', t7)\n",
    "# 其它行程每日平均次数\n",
    "data_w_travel['other_travel'] = (data_w_travel['D_pur'] == 7)|(data_w_travel['D_pur'] == 9)|(data_w_travel['D_pur'] == 10)|(data_w_travel['D_pur'] == 14)|(data_w_travel['D_pur'] == 19)\n",
    "other_travel = data_w_travel[data_w_travel['other_travel']]\n",
    "t8 = round(len(other_travel) / num, 3)\n",
    "print('平均其它事情行程次数：', t8)"
   ]
  },
  {
   "cell_type": "code",
   "execution_count": 9,
   "id": "be78b1d8",
   "metadata": {
    "ExecuteTime": {
     "end_time": "2021-11-21T07:21:43.545816Z",
     "start_time": "2021-11-21T07:21:43.519427Z"
    }
   },
   "outputs": [
    {
     "data": {
      "text/html": [
       "<div>\n",
       "<style scoped>\n",
       "    .dataframe tbody tr th:only-of-type {\n",
       "        vertical-align: middle;\n",
       "    }\n",
       "\n",
       "    .dataframe tbody tr th {\n",
       "        vertical-align: top;\n",
       "    }\n",
       "\n",
       "    .dataframe thead th {\n",
       "        text-align: right;\n",
       "    }\n",
       "</style>\n",
       "<table border=\"1\" class=\"dataframe\">\n",
       "  <thead>\n",
       "    <tr style=\"text-align: right;\">\n",
       "      <th></th>\n",
       "      <th>回家</th>\n",
       "      <th>工作</th>\n",
       "      <th>上学</th>\n",
       "      <th>购物</th>\n",
       "      <th>社交娱乐</th>\n",
       "      <th>就医</th>\n",
       "      <th>接送他人</th>\n",
       "      <th>其它</th>\n",
       "    </tr>\n",
       "  </thead>\n",
       "  <tbody>\n",
       "    <tr>\n",
       "      <th>0</th>\n",
       "      <td>1.356</td>\n",
       "      <td>0.116</td>\n",
       "      <td>0.963</td>\n",
       "      <td>0.414</td>\n",
       "      <td>0.294</td>\n",
       "      <td>0.025</td>\n",
       "      <td>0.225</td>\n",
       "      <td>0.208</td>\n",
       "    </tr>\n",
       "  </tbody>\n",
       "</table>\n",
       "</div>"
      ],
      "text/plain": [
       "      回家     工作     上学     购物   社交娱乐     就医   接送他人     其它\n",
       "0  1.356  0.116  0.963  0.414  0.294  0.025  0.225  0.208"
      ]
     },
     "execution_count": 9,
     "metadata": {},
     "output_type": "execute_result"
    }
   ],
   "source": [
    "worker_list = []\n",
    "worker_list.append(t1)\n",
    "name_list = ['回家', '工作', '上学', '购物', '社交娱乐', '就医', '接送他人', '其它']\n",
    "worker_list.append(t2)\n",
    "worker_list.append(t3)\n",
    "worker_list.append(t4)\n",
    "worker_list.append(t5)\n",
    "worker_list.append(t6)\n",
    "worker_list.append(t7)\n",
    "worker_list.append(t8)\n",
    "student = pd.DataFrame([worker_list], columns=name_list)\n",
    "student"
   ]
  },
  {
   "cell_type": "markdown",
   "id": "bc7a5d5f",
   "metadata": {},
   "source": [
    "# NonWorker 平均每日出行"
   ]
  },
  {
   "cell_type": "code",
   "execution_count": 10,
   "id": "2c27725e",
   "metadata": {
    "ExecuteTime": {
     "end_time": "2021-11-21T07:22:05.322257Z",
     "start_time": "2021-11-21T07:22:05.254312Z"
    }
   },
   "outputs": [
    {
     "name": "stdout",
     "output_type": "stream",
     "text": [
      "初步统计人数： 1919\n",
      "矫正后统计人数： 2196\n"
     ]
    }
   ],
   "source": [
    "data_w = pd.read_csv('data_nonworker.csv')\n",
    "# 初步统计人数，有的人统计了两道三天内的活动\n",
    "print('初步统计人数：', len(data_w.groupby('new_id')))\n",
    "# 量化一天内有多少人\n",
    "data_w['人数'] = data_w['BegTime'] == 0\n",
    "data_w_2 = data_w[data_w['人数']]\n",
    "num = len(data_w_2)\n",
    "print('矫正后统计人数：', num)"
   ]
  },
  {
   "cell_type": "code",
   "execution_count": 11,
   "id": "3a57b98c",
   "metadata": {
    "ExecuteTime": {
     "end_time": "2021-11-21T07:22:16.515154Z",
     "start_time": "2021-11-21T07:22:16.467259Z"
    }
   },
   "outputs": [
    {
     "name": "stdout",
     "output_type": "stream",
     "text": [
      "平均回家行程次数： 1.482\n",
      "平均工作行程次数： 0.0\n",
      "平均上学行程次数： 0.0\n",
      "平均购物行程次数： 1.412\n",
      "平均社交娱乐行程次数： 0.582\n",
      "平均就医路行程次数： 0.136\n",
      "平均接送他人行程次数： 0.229\n",
      "平均其它事情行程次数： 0.344\n"
     ]
    },
    {
     "name": "stderr",
     "output_type": "stream",
     "text": [
      "D:\\Anaconda\\envs\\geo_env\\lib\\site-packages\\pandas\\core\\frame.py:3607: SettingWithCopyWarning: \n",
      "A value is trying to be set on a copy of a slice from a DataFrame.\n",
      "Try using .loc[row_indexer,col_indexer] = value instead\n",
      "\n",
      "See the caveats in the documentation: https://pandas.pydata.org/pandas-docs/stable/user_guide/indexing.html#returning-a-view-versus-a-copy\n",
      "  self._set_item(key, value)\n"
     ]
    }
   ],
   "source": [
    "data_w['travel'] = data_w['ActType'] == -2\n",
    "data_w_travel = data_w[data_w['travel']]\n",
    "# 回家行程每日平均次数\n",
    "data_w_travel['home_travel'] = data_w_travel['D_pur'] == 1\n",
    "home_travel = data_w_travel[data_w_travel['home_travel']]\n",
    "t1 = round(len(home_travel) / num, 3)\n",
    "print('平均回家行程次数：', t1)\n",
    "# 工作行程每日平均次数\n",
    "data_w_travel['work_travel'] = (data_w_travel['D_pur'] == 2)|(data_w_travel['D_pur'] == 3)|(data_w_travel['D_pur'] == 4)|(data_w_travel['D_pur'] == 5)\n",
    "work_travel = data_w_travel[data_w_travel['work_travel']]\n",
    "t2 = round(len(work_travel) / num, 3)\n",
    "print('平均工作行程次数：', t2)\n",
    "# 上学行程每日平均次数\n",
    "data_w_travel['school_travel'] = data_w_travel['D_pur'] == 8\n",
    "school_travel = data_w_travel[data_w_travel['school_travel']]\n",
    "t3 = round(len(school_travel) / num, 3)\n",
    "print('平均上学行程次数：', t3)\n",
    "# 购物行程每日平均次数\n",
    "data_w_travel['shopping_travel'] = (data_w_travel['D_pur'] == 11)|(data_w_travel['D_pur'] == 13)|(data_w_travel['D_pur'] == 12)\n",
    "shopping_travel = data_w_travel[data_w_travel['shopping_travel']]\n",
    "t4 = round(len(shopping_travel) / num, 3)\n",
    "print('平均购物行程次数：', t4)\n",
    "# 社交娱乐行程每日平均次数\n",
    "data_w_travel['creation_travel'] = (data_w_travel['D_pur'] == 15)|(data_w_travel['D_pur'] == 16)|(data_w_travel['D_pur'] == 17)\n",
    "creation_travel = data_w_travel[data_w_travel['creation_travel']]\n",
    "t5 = round(len(creation_travel) / num, 3)\n",
    "print('平均社交娱乐行程次数：', t5)\n",
    "# 就医行程每日平均次数\n",
    "data_w_travel['dailycare_travel'] = data_w_travel['D_pur'] == 18\n",
    "dailycare_travel = data_w_travel[data_w_travel['dailycare_travel']]\n",
    "t6 = round(len(dailycare_travel) / num, 3)\n",
    "print('平均就医路行程次数：', t6)\n",
    "# 接送行程每日平均次数\n",
    "data_w_travel['jiesong_travel'] = data_w_travel['D_pur'] == 6\n",
    "jiesong_travel = data_w_travel[data_w_travel['jiesong_travel']]\n",
    "t7 = round(len(jiesong_travel) / num, 3)\n",
    "print('平均接送他人行程次数：', t7)\n",
    "# 其它行程每日平均次数\n",
    "data_w_travel['other_travel'] = (data_w_travel['D_pur'] == 7)|(data_w_travel['D_pur'] == 9)|(data_w_travel['D_pur'] == 10)|(data_w_travel['D_pur'] == 14)|(data_w_travel['D_pur'] == 19)\n",
    "other_travel = data_w_travel[data_w_travel['other_travel']]\n",
    "t8 = round(len(other_travel) / num, 3)\n",
    "print('平均其它事情行程次数：', t8)"
   ]
  },
  {
   "cell_type": "code",
   "execution_count": 12,
   "id": "581749c6",
   "metadata": {
    "ExecuteTime": {
     "end_time": "2021-11-21T07:22:42.625965Z",
     "start_time": "2021-11-21T07:22:42.607017Z"
    }
   },
   "outputs": [
    {
     "data": {
      "text/html": [
       "<div>\n",
       "<style scoped>\n",
       "    .dataframe tbody tr th:only-of-type {\n",
       "        vertical-align: middle;\n",
       "    }\n",
       "\n",
       "    .dataframe tbody tr th {\n",
       "        vertical-align: top;\n",
       "    }\n",
       "\n",
       "    .dataframe thead th {\n",
       "        text-align: right;\n",
       "    }\n",
       "</style>\n",
       "<table border=\"1\" class=\"dataframe\">\n",
       "  <thead>\n",
       "    <tr style=\"text-align: right;\">\n",
       "      <th></th>\n",
       "      <th>回家</th>\n",
       "      <th>工作</th>\n",
       "      <th>上学</th>\n",
       "      <th>购物</th>\n",
       "      <th>社交娱乐</th>\n",
       "      <th>就医</th>\n",
       "      <th>接送他人</th>\n",
       "      <th>其它</th>\n",
       "    </tr>\n",
       "  </thead>\n",
       "  <tbody>\n",
       "    <tr>\n",
       "      <th>0</th>\n",
       "      <td>1.482</td>\n",
       "      <td>0.0</td>\n",
       "      <td>0.0</td>\n",
       "      <td>1.412</td>\n",
       "      <td>0.582</td>\n",
       "      <td>0.136</td>\n",
       "      <td>0.229</td>\n",
       "      <td>0.344</td>\n",
       "    </tr>\n",
       "  </tbody>\n",
       "</table>\n",
       "</div>"
      ],
      "text/plain": [
       "      回家   工作   上学     购物   社交娱乐     就医   接送他人     其它\n",
       "0  1.482  0.0  0.0  1.412  0.582  0.136  0.229  0.344"
      ]
     },
     "execution_count": 12,
     "metadata": {},
     "output_type": "execute_result"
    }
   ],
   "source": [
    "worker_list = []\n",
    "worker_list.append(t1)\n",
    "name_list = ['回家', '工作', '上学', '购物', '社交娱乐', '就医', '接送他人', '其它']\n",
    "worker_list.append(t2)\n",
    "worker_list.append(t3)\n",
    "worker_list.append(t4)\n",
    "worker_list.append(t5)\n",
    "worker_list.append(t6)\n",
    "worker_list.append(t7)\n",
    "worker_list.append(t8)\n",
    "nonworker = pd.DataFrame([worker_list], columns=name_list)\n",
    "nonworker"
   ]
  },
  {
   "cell_type": "code",
   "execution_count": 21,
   "id": "19270109",
   "metadata": {
    "ExecuteTime": {
     "end_time": "2021-11-21T07:30:01.651584Z",
     "start_time": "2021-11-21T07:30:01.631414Z"
    }
   },
   "outputs": [],
   "source": [
    "average_travel = worker.append(student)\n",
    "average_travel = average_travel.append(nonworker)\n",
    "# del average_travel['Unnamed: 0']\n",
    "average_travel = average_travel.rename({0: 'Worker', 1: 'Student', 2: 'NonWorker'}, axis='index')\n",
    "average_travel.to_csv('average_frequency.csv', encoding='utf-8_sig')"
   ]
  },
  {
   "cell_type": "code",
   "execution_count": 22,
   "id": "baff49e5",
   "metadata": {
    "ExecuteTime": {
     "end_time": "2021-11-21T07:30:03.967628Z",
     "start_time": "2021-11-21T07:30:03.954632Z"
    }
   },
   "outputs": [],
   "source": [
    "x = pd.read_csv('average_travel.csv')\n",
    "del x['Unnamed: 0']\n",
    "x = x.rename({0: 'Worker', 1: 'Student', 2: 'NonWorker'}, axis='index')\n",
    "x.to_csv('average_travel.csv', encoding='utf-8_sig')"
   ]
  },
  {
   "cell_type": "code",
   "execution_count": 23,
   "id": "00816c6f",
   "metadata": {
    "ExecuteTime": {
     "end_time": "2021-11-21T07:30:05.946527Z",
     "start_time": "2021-11-21T07:30:05.926497Z"
    }
   },
   "outputs": [
    {
     "data": {
      "text/html": [
       "<div>\n",
       "<style scoped>\n",
       "    .dataframe tbody tr th:only-of-type {\n",
       "        vertical-align: middle;\n",
       "    }\n",
       "\n",
       "    .dataframe tbody tr th {\n",
       "        vertical-align: top;\n",
       "    }\n",
       "\n",
       "    .dataframe thead th {\n",
       "        text-align: right;\n",
       "    }\n",
       "</style>\n",
       "<table border=\"1\" class=\"dataframe\">\n",
       "  <thead>\n",
       "    <tr style=\"text-align: right;\">\n",
       "      <th></th>\n",
       "      <th>回家</th>\n",
       "      <th>工作</th>\n",
       "      <th>上学</th>\n",
       "      <th>购物</th>\n",
       "      <th>社交娱乐</th>\n",
       "      <th>就医</th>\n",
       "      <th>接送他人</th>\n",
       "      <th>其它</th>\n",
       "    </tr>\n",
       "  </thead>\n",
       "  <tbody>\n",
       "    <tr>\n",
       "      <th>Worker</th>\n",
       "      <td>1.388</td>\n",
       "      <td>1.030</td>\n",
       "      <td>0.000</td>\n",
       "      <td>0.907</td>\n",
       "      <td>0.353</td>\n",
       "      <td>0.068</td>\n",
       "      <td>0.214</td>\n",
       "      <td>0.229</td>\n",
       "    </tr>\n",
       "    <tr>\n",
       "      <th>Student</th>\n",
       "      <td>1.356</td>\n",
       "      <td>0.116</td>\n",
       "      <td>0.963</td>\n",
       "      <td>0.414</td>\n",
       "      <td>0.294</td>\n",
       "      <td>0.025</td>\n",
       "      <td>0.225</td>\n",
       "      <td>0.208</td>\n",
       "    </tr>\n",
       "    <tr>\n",
       "      <th>NonWorker</th>\n",
       "      <td>1.482</td>\n",
       "      <td>0.000</td>\n",
       "      <td>0.000</td>\n",
       "      <td>1.412</td>\n",
       "      <td>0.582</td>\n",
       "      <td>0.136</td>\n",
       "      <td>0.229</td>\n",
       "      <td>0.344</td>\n",
       "    </tr>\n",
       "  </tbody>\n",
       "</table>\n",
       "</div>"
      ],
      "text/plain": [
       "              回家     工作     上学     购物   社交娱乐     就医   接送他人     其它\n",
       "Worker     1.388  1.030  0.000  0.907  0.353  0.068  0.214  0.229\n",
       "Student    1.356  0.116  0.963  0.414  0.294  0.025  0.225  0.208\n",
       "NonWorker  1.482  0.000  0.000  1.412  0.582  0.136  0.229  0.344"
      ]
     },
     "execution_count": 23,
     "metadata": {},
     "output_type": "execute_result"
    }
   ],
   "source": [
    "x"
   ]
  }
 ],
 "metadata": {
  "kernelspec": {
   "display_name": "Python [conda env:geo_env] *",
   "language": "python",
   "name": "conda-env-geo_env-py"
  },
  "language_info": {
   "codemirror_mode": {
    "name": "ipython",
    "version": 3
   },
   "file_extension": ".py",
   "mimetype": "text/x-python",
   "name": "python",
   "nbconvert_exporter": "python",
   "pygments_lexer": "ipython3",
   "version": "3.7.11"
  },
  "toc": {
   "base_numbering": 1,
   "nav_menu": {},
   "number_sections": true,
   "sideBar": true,
   "skip_h1_title": false,
   "title_cell": "Table of Contents",
   "title_sidebar": "Contents",
   "toc_cell": false,
   "toc_position": {},
   "toc_section_display": true,
   "toc_window_display": false
  },
  "varInspector": {
   "cols": {
    "lenName": 16,
    "lenType": 16,
    "lenVar": 40
   },
   "kernels_config": {
    "python": {
     "delete_cmd_postfix": "",
     "delete_cmd_prefix": "del ",
     "library": "var_list.py",
     "varRefreshCmd": "print(var_dic_list())"
    },
    "r": {
     "delete_cmd_postfix": ") ",
     "delete_cmd_prefix": "rm(",
     "library": "var_list.r",
     "varRefreshCmd": "cat(var_dic_list()) "
    }
   },
   "types_to_exclude": [
    "module",
    "function",
    "builtin_function_or_method",
    "instance",
    "_Feature"
   ],
   "window_display": false
  }
 },
 "nbformat": 4,
 "nbformat_minor": 5
}
