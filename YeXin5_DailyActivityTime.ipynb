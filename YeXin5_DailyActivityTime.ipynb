{
 "cells": [
  {
   "cell_type": "code",
   "execution_count": 76,
   "id": "eb69b005",
   "metadata": {
    "ExecuteTime": {
     "end_time": "2021-11-21T07:36:30.725207Z",
     "start_time": "2021-11-21T07:36:30.719223Z"
    }
   },
   "outputs": [],
   "source": [
    "import pandas as pd"
   ]
  },
  {
   "cell_type": "markdown",
   "id": "e18b6005",
   "metadata": {},
   "source": [
    "### Student"
   ]
  },
  {
   "cell_type": "code",
   "execution_count": 77,
   "id": "498e5848",
   "metadata": {
    "ExecuteTime": {
     "end_time": "2021-11-21T07:36:50.474479Z",
     "start_time": "2021-11-21T07:36:50.436820Z"
    }
   },
   "outputs": [
    {
     "name": "stdout",
     "output_type": "stream",
     "text": [
      "初步统计人数： 388\n",
      "矫正后统计人数： 432\n"
     ]
    }
   ],
   "source": [
    "data_s = pd.read_csv('data_student.csv')\n",
    "# 初步统计人数，有的人统计了两道三天内的活动\n",
    "print('初步统计人数：', len(data_s.groupby('new_id')))\n",
    "# 量化一天内有多少人\n",
    "data_s['人数'] = data_s['BegTime'] == 0\n",
    "data_s_2 = data_s[data_s['人数']]\n",
    "num = len(data_s_2)\n",
    "print('矫正后统计人数：', num)"
   ]
  },
  {
   "cell_type": "code",
   "execution_count": 13,
   "id": "c7a127c7",
   "metadata": {
    "ExecuteTime": {
     "end_time": "2021-11-21T05:37:56.919005Z",
     "start_time": "2021-11-21T05:37:56.878570Z"
    }
   },
   "outputs": [
    {
     "name": "stdout",
     "output_type": "stream",
     "text": [
      "home time: 879.271\n",
      "work time: 37.88\n",
      "school time: 394.81\n",
      "shopping time: 16.155\n",
      "recreation time: 30.947\n",
      "dailycare time: 1.266\n",
      "jiesong time: 2.965\n",
      "other time: 7.701\n"
     ]
    }
   ],
   "source": [
    "# 在家\n",
    "data_s['home'] = data_s['ActType'] == 1\n",
    "data_s_h = data_s[data_s['home']]\n",
    "home_t = round(data_s_h['AT_Dur'].sum() / num, 3)\n",
    "print('home time:', home_t)\n",
    "# 工作 [2,3,4,5]\n",
    "data_s['work'] = (data_s['ActType'] == 2)|(data_s['ActType'] == 3)|(data_s['ActType'] == 4)|(data_s['ActType'] == 5)\n",
    "data_s_work = data_s[data_s['work']]\n",
    "work_t = round(data_s_work['AT_Dur'].sum() / num, 3)\n",
    "print('work time:', work_t)\n",
    "# 上学\n",
    "# del data_w['work']\n",
    "data_s['school'] = data_s['ActType'] == 8\n",
    "data_s_school = data_s[data_s['school']]\n",
    "school_t = round(data_s_school['AT_Dur'].sum() / num, 3)\n",
    "print('school time:', school_t)\n",
    "# 购物 [11,12,13]\n",
    "# del data_w['school']\n",
    "data_s['shopping'] = (data_s['ActType'] == 11)|(data_s['ActType'] == 12)|(data_s['ActType'] == 13)\n",
    "data_s_shopping = data_s[data_s['shopping']]\n",
    "shopping_t = round(data_s_shopping['AT_Dur'].sum() / num, 3)\n",
    "print('shopping time:', shopping_t)\n",
    "# 社交娱乐[15,16,17]\n",
    "data_s['recreation'] = (data_s['ActType'] == 15)|(data_s['ActType'] == 16)|(data_s['ActType'] == 17)\n",
    "data_s_recreation = data_s[data_s['recreation']]\n",
    "recreation_t = round(data_s_recreation['AT_Dur'].sum() / num, 3)\n",
    "print('recreation time:', recreation_t)\n",
    "# 就医 18\n",
    "data_s['dailycare'] = data_s['ActType'] == 18\n",
    "data_s_dailycare = data_s[data_s['dailycare']]\n",
    "dailycare_t = round(data_s_dailycare['AT_Dur'].sum() / num, 3)\n",
    "print('dailycare time:', dailycare_t)\n",
    "# 接送他人 6\n",
    "data_s['jiesong'] = data_s['ActType'] == 6\n",
    "data_s_jiesong = data_s[data_s['jiesong']]\n",
    "jiesong_t = round(data_s_jiesong['AT_Dur'].sum() / num, 3)\n",
    "print('jiesong time:', jiesong_t)\n",
    "# 其它[7,9,10,14,19]\n",
    "data_s['other'] = (data_s['ActType'] == 7)|(data_s['ActType'] == 9)|(data_s['ActType'] == 10)|(data_s['ActType'] == 14)|(data_s['ActType'] == 19)\n",
    "data_s_other = data_s[data_s['other']]\n",
    "other_t = round(data_s_other['AT_Dur'].sum() / num, 3)\n",
    "print('other time:', other_t)"
   ]
  },
  {
   "cell_type": "code",
   "execution_count": 14,
   "id": "f3980b58",
   "metadata": {
    "ExecuteTime": {
     "end_time": "2021-11-21T05:38:40.131806Z",
     "start_time": "2021-11-21T05:38:40.108622Z"
    }
   },
   "outputs": [
    {
     "data": {
      "text/html": [
       "<div>\n",
       "<style scoped>\n",
       "    .dataframe tbody tr th:only-of-type {\n",
       "        vertical-align: middle;\n",
       "    }\n",
       "\n",
       "    .dataframe tbody tr th {\n",
       "        vertical-align: top;\n",
       "    }\n",
       "\n",
       "    .dataframe thead th {\n",
       "        text-align: right;\n",
       "    }\n",
       "</style>\n",
       "<table border=\"1\" class=\"dataframe\">\n",
       "  <thead>\n",
       "    <tr style=\"text-align: right;\">\n",
       "      <th></th>\n",
       "      <th>回家</th>\n",
       "      <th>工作</th>\n",
       "      <th>上学</th>\n",
       "      <th>购物</th>\n",
       "      <th>社交娱乐</th>\n",
       "      <th>就医</th>\n",
       "      <th>接送他人</th>\n",
       "      <th>其它</th>\n",
       "    </tr>\n",
       "  </thead>\n",
       "  <tbody>\n",
       "    <tr>\n",
       "      <th>0</th>\n",
       "      <td>879.271</td>\n",
       "      <td>37.88</td>\n",
       "      <td>394.81</td>\n",
       "      <td>16.155</td>\n",
       "      <td>30.947</td>\n",
       "      <td>1.266</td>\n",
       "      <td>2.965</td>\n",
       "      <td>7.701</td>\n",
       "    </tr>\n",
       "  </tbody>\n",
       "</table>\n",
       "</div>"
      ],
      "text/plain": [
       "        回家     工作      上学      购物    社交娱乐     就医   接送他人     其它\n",
       "0  879.271  37.88  394.81  16.155  30.947  1.266  2.965  7.701"
      ]
     },
     "execution_count": 14,
     "metadata": {},
     "output_type": "execute_result"
    }
   ],
   "source": [
    "worker_list = []\n",
    "worker_list.append(home_t)\n",
    "name_list = ['回家', '工作', '上学', '购物', '社交娱乐', '就医', '接送他人', '其它']\n",
    "worker_list.append(work_t)\n",
    "worker_list.append(school_t)\n",
    "worker_list.append(shopping_t)\n",
    "worker_list.append(recreation_t)\n",
    "worker_list.append(dailycare_t)\n",
    "worker_list.append(jiesong_t)\n",
    "worker_list.append(other_t)\n",
    "student = pd.DataFrame([worker_list], columns=name_list)\n",
    "student"
   ]
  },
  {
   "cell_type": "markdown",
   "id": "b2eec88a",
   "metadata": {},
   "source": [
    "### Non Worker"
   ]
  },
  {
   "cell_type": "code",
   "execution_count": 78,
   "id": "b5d82989",
   "metadata": {
    "ExecuteTime": {
     "end_time": "2021-11-21T07:37:11.461251Z",
     "start_time": "2021-11-21T07:37:11.398269Z"
    }
   },
   "outputs": [
    {
     "name": "stdout",
     "output_type": "stream",
     "text": [
      "初步统计人数： 1919\n",
      "矫正后统计人数： 2196\n"
     ]
    }
   ],
   "source": [
    "data_n = pd.read_csv('data_nonworker.csv')\n",
    "# 初步统计人数，有的人统计了两道三天内的活动\n",
    "print('初步统计人数：', len(data_n.groupby('new_id')))\n",
    "# 量化一天内有多少人\n",
    "data_n['人数'] = data_n['BegTime'] == 0\n",
    "data_n_2 = data_n[data_n['人数']]\n",
    "num = len(data_n_2)\n",
    "print('矫正后统计人数：', num)"
   ]
  },
  {
   "cell_type": "code",
   "execution_count": 18,
   "id": "9ab4f862",
   "metadata": {
    "ExecuteTime": {
     "end_time": "2021-11-21T05:45:32.711234Z",
     "start_time": "2021-11-21T05:45:32.666398Z"
    }
   },
   "outputs": [
    {
     "name": "stdout",
     "output_type": "stream",
     "text": [
      "home time: 1113.528\n",
      "work time: 0.0\n",
      "school time: 0.0\n",
      "shopping time: 63.653\n",
      "recreation time: 118.974\n",
      "dailycare time: 13.784\n",
      "jiesong time: 5.572\n",
      "other time: 27.643\n"
     ]
    }
   ],
   "source": [
    "# 在家\n",
    "data_n['home'] = data_n['ActType'] == 1\n",
    "data_n_h = data_n[data_n['home']]\n",
    "home_t = round(data_n_h['AT_Dur'].sum() / num, 3)\n",
    "print('home time:', home_t)\n",
    "# 工作\n",
    "data_n['work'] = (data_n['ActType'] == 2)|(data_n['ActType'] == 3)|(data_n['ActType'] == 4)|(data_n['ActType'] == 5)\n",
    "data_n_work = data_n[data_n['work']]\n",
    "work_t = round(data_n_work['AT_Dur'].sum() / num, 3)\n",
    "print('work time:', work_t)\n",
    "# 上学\n",
    "# del data_w['work']\n",
    "data_n['school'] = data_n['ActType'] == 8\n",
    "data_n_school = data_n[data_n['school']]\n",
    "school_t = round(data_n_school['AT_Dur'].sum() / num, 3)\n",
    "print('school time:', school_t)\n",
    "# 购物 [11,12,13]\n",
    "# del data_w['school']\n",
    "data_n['shopping'] = (data_n['ActType'] == 11)|(data_n['ActType'] == 12)|(data_n['ActType'] == 13)\n",
    "data_n_shopping = data_n[data_n['shopping']]\n",
    "shopping_t = round(data_n_shopping['AT_Dur'].sum() / num, 3)\n",
    "print('shopping time:', shopping_t)\n",
    "# 社交娱乐[15,16,17]\n",
    "data_n['recreation'] = (data_n['ActType'] == 15)|(data_n['ActType'] == 16)|(data_n['ActType'] == 17)\n",
    "data_n_recreation = data_n[data_n['recreation']]\n",
    "recreation_t = round(data_n_recreation['AT_Dur'].sum() / num, 3)\n",
    "print('recreation time:', recreation_t)\n",
    "# 就医 18\n",
    "data_n['dailycare'] = data_n['ActType'] == 18\n",
    "data_n_dailycare = data_n[data_n['dailycare']]\n",
    "dailycare_t = round(data_n_dailycare['AT_Dur'].sum() / num, 3)\n",
    "print('dailycare time:', dailycare_t)\n",
    "# 接送他人 6\n",
    "data_n['jiesong'] = data_n['ActType'] == 6\n",
    "data_n_jiesong = data_n[data_n['jiesong']]\n",
    "jiesong_t = round(data_n_jiesong['AT_Dur'].sum() / num, 3)\n",
    "print('jiesong time:', jiesong_t)\n",
    "# 其它[7,9,10,14,19]\n",
    "data_n['other'] = (data_n['ActType'] == 7)|(data_n['ActType'] == 9)|(data_n['ActType'] == 10)|(data_n['ActType'] == 14)|(data_n['ActType'] == 19)\n",
    "data_n_other = data_n[data_n['other']]\n",
    "other_t = round(data_n_other['AT_Dur'].sum() / num, 3)\n",
    "print('other time:', other_t)"
   ]
  },
  {
   "cell_type": "code",
   "execution_count": 19,
   "id": "b9575ef1",
   "metadata": {
    "ExecuteTime": {
     "end_time": "2021-11-21T05:45:45.976631Z",
     "start_time": "2021-11-21T05:45:45.954728Z"
    }
   },
   "outputs": [
    {
     "data": {
      "text/html": [
       "<div>\n",
       "<style scoped>\n",
       "    .dataframe tbody tr th:only-of-type {\n",
       "        vertical-align: middle;\n",
       "    }\n",
       "\n",
       "    .dataframe tbody tr th {\n",
       "        vertical-align: top;\n",
       "    }\n",
       "\n",
       "    .dataframe thead th {\n",
       "        text-align: right;\n",
       "    }\n",
       "</style>\n",
       "<table border=\"1\" class=\"dataframe\">\n",
       "  <thead>\n",
       "    <tr style=\"text-align: right;\">\n",
       "      <th></th>\n",
       "      <th>回家</th>\n",
       "      <th>工作</th>\n",
       "      <th>上学</th>\n",
       "      <th>购物</th>\n",
       "      <th>社交娱乐</th>\n",
       "      <th>就医</th>\n",
       "      <th>接送他人</th>\n",
       "      <th>其它</th>\n",
       "    </tr>\n",
       "  </thead>\n",
       "  <tbody>\n",
       "    <tr>\n",
       "      <th>0</th>\n",
       "      <td>1113.528</td>\n",
       "      <td>0.0</td>\n",
       "      <td>0.0</td>\n",
       "      <td>63.653</td>\n",
       "      <td>118.974</td>\n",
       "      <td>13.784</td>\n",
       "      <td>5.572</td>\n",
       "      <td>27.643</td>\n",
       "    </tr>\n",
       "  </tbody>\n",
       "</table>\n",
       "</div>"
      ],
      "text/plain": [
       "         回家   工作   上学      购物     社交娱乐      就医   接送他人      其它\n",
       "0  1113.528  0.0  0.0  63.653  118.974  13.784  5.572  27.643"
      ]
     },
     "execution_count": 19,
     "metadata": {},
     "output_type": "execute_result"
    }
   ],
   "source": [
    "worker_list = []\n",
    "worker_list.append(home_t)\n",
    "name_list = ['回家', '工作', '上学', '购物', '社交娱乐', '就医', '接送他人', '其它']\n",
    "worker_list.append(work_t)\n",
    "worker_list.append(school_t)\n",
    "worker_list.append(shopping_t)\n",
    "worker_list.append(recreation_t)\n",
    "worker_list.append(dailycare_t)\n",
    "worker_list.append(jiesong_t)\n",
    "worker_list.append(other_t)\n",
    "nonworker = pd.DataFrame([worker_list], columns=name_list)\n",
    "nonworker"
   ]
  },
  {
   "cell_type": "markdown",
   "id": "f1d29ced",
   "metadata": {},
   "source": [
    "### Worker"
   ]
  },
  {
   "cell_type": "code",
   "execution_count": 20,
   "id": "b8ae096d",
   "metadata": {
    "ExecuteTime": {
     "end_time": "2021-11-21T05:46:56.462594Z",
     "start_time": "2021-11-21T05:46:56.387672Z"
    }
   },
   "outputs": [
    {
     "name": "stdout",
     "output_type": "stream",
     "text": [
      "初步统计人数： 1339\n",
      "矫正后统计人数： 2046\n"
     ]
    }
   ],
   "source": [
    "data_w = pd.read_csv('data_worker.csv')\n",
    "# 初步统计人数，有的人统计了两道三天内的活动\n",
    "print('初步统计人数：', len(data_w.groupby('new_id')))\n",
    "# 量化一天内有多少人\n",
    "data_w['人数'] = data_w['BegTime'] == 0\n",
    "data_w_2 = data_w[data_w['人数']]\n",
    "num = len(data_w_2)\n",
    "print('矫正后统计人数：', num)"
   ]
  },
  {
   "cell_type": "code",
   "execution_count": 21,
   "id": "b66aa6f8",
   "metadata": {
    "ExecuteTime": {
     "end_time": "2021-11-21T05:47:56.666309Z",
     "start_time": "2021-11-21T05:47:56.627412Z"
    }
   },
   "outputs": [
    {
     "name": "stdout",
     "output_type": "stream",
     "text": [
      "home time: 866.248\n",
      "work time: 367.704\n",
      "school time: 0.0\n",
      "shopping time: 35.331\n",
      "recreation time: 55.644\n",
      "dailycare time: 6.17\n",
      "jiesong time: 4.867\n",
      "other time: 15.478\n"
     ]
    }
   ],
   "source": [
    "# 在家\n",
    "data_w['home'] = data_w['ActType'] == 1\n",
    "data_w_h = data_w[data_w['home']]\n",
    "home_t = round(data_w_h['AT_Dur'].sum() / num, 3)\n",
    "print('home time:', home_t)\n",
    "# 工作\n",
    "work_l = [2,3,4,5]\n",
    "data_w['work'] = (data_w['ActType'] == 2)|(data_w['ActType'] == 3)|(data_w['ActType'] == 4)|(data_w['ActType'] == 5)\n",
    "data_w_work = data_w[data_w['work']]\n",
    "work_t = round(data_w_work['AT_Dur'].sum() / num, 3)\n",
    "print('work time:', work_t)\n",
    "# 上学\n",
    "# del data_w['work']\n",
    "data_w['school'] = data_w['ActType'] == 8\n",
    "data_w_school = data_w[data_w['school']]\n",
    "school_t = round(data_w_school['AT_Dur'].sum() / num, 3)\n",
    "print('school time:', school_t)\n",
    "# 购物 [11,12,13]\n",
    "# del data_w['school']\n",
    "data_w['shopping'] = (data_w['ActType'] == 11)|(data_w['ActType'] == 12)|(data_w['ActType'] == 13)\n",
    "data_w_shopping = data_w[data_w['shopping']]\n",
    "shopping_t = round(data_w_shopping['AT_Dur'].sum() / num, 3)\n",
    "print('shopping time:', shopping_t)\n",
    "# 社交娱乐[15,16,17]\n",
    "data_w['recreation'] = (data_w['ActType'] == 15)|(data_w['ActType'] == 16)|(data_w['ActType'] == 17)\n",
    "data_w_recreation = data_w[data_w['recreation']]\n",
    "recreation_t = round(data_w_recreation['AT_Dur'].sum() / num, 3)\n",
    "print('recreation time:', recreation_t)\n",
    "# 就医 18\n",
    "data_w['dailycare'] = data_w['ActType'] == 18\n",
    "data_w_dailycare = data_w[data_w['dailycare']]\n",
    "dailycare_t = round(data_w_dailycare['AT_Dur'].sum() / num, 3)\n",
    "print('dailycare time:', dailycare_t)\n",
    "# 接送他人 6\n",
    "data_w['jiesong'] = data_w['ActType'] == 6\n",
    "data_w_jiesong = data_w[data_w['jiesong']]\n",
    "jiesong_t = round(data_w_jiesong['AT_Dur'].sum() / num, 3)\n",
    "print('jiesong time:', jiesong_t)\n",
    "# 其它[7,9,10,14,19]\n",
    "data_w['other'] = (data_w['ActType'] == 7)|(data_w['ActType'] == 9)|(data_w['ActType'] == 10)|(data_w['ActType'] == 14)|(data_w['ActType'] == 19)\n",
    "data_w_other = data_w[data_w['other']]\n",
    "other_t = round(data_w_other['AT_Dur'].sum() / num, 3)\n",
    "print('other time:', other_t)"
   ]
  },
  {
   "cell_type": "code",
   "execution_count": 22,
   "id": "f551cfe2",
   "metadata": {
    "ExecuteTime": {
     "end_time": "2021-11-21T05:48:06.434162Z",
     "start_time": "2021-11-21T05:48:06.408231Z"
    }
   },
   "outputs": [
    {
     "data": {
      "text/html": [
       "<div>\n",
       "<style scoped>\n",
       "    .dataframe tbody tr th:only-of-type {\n",
       "        vertical-align: middle;\n",
       "    }\n",
       "\n",
       "    .dataframe tbody tr th {\n",
       "        vertical-align: top;\n",
       "    }\n",
       "\n",
       "    .dataframe thead th {\n",
       "        text-align: right;\n",
       "    }\n",
       "</style>\n",
       "<table border=\"1\" class=\"dataframe\">\n",
       "  <thead>\n",
       "    <tr style=\"text-align: right;\">\n",
       "      <th></th>\n",
       "      <th>回家</th>\n",
       "      <th>工作</th>\n",
       "      <th>上学</th>\n",
       "      <th>购物</th>\n",
       "      <th>社交娱乐</th>\n",
       "      <th>就医</th>\n",
       "      <th>接送他人</th>\n",
       "      <th>其它</th>\n",
       "    </tr>\n",
       "  </thead>\n",
       "  <tbody>\n",
       "    <tr>\n",
       "      <th>0</th>\n",
       "      <td>866.248</td>\n",
       "      <td>367.704</td>\n",
       "      <td>0.0</td>\n",
       "      <td>35.331</td>\n",
       "      <td>55.644</td>\n",
       "      <td>6.17</td>\n",
       "      <td>4.867</td>\n",
       "      <td>15.478</td>\n",
       "    </tr>\n",
       "  </tbody>\n",
       "</table>\n",
       "</div>"
      ],
      "text/plain": [
       "        回家       工作   上学      购物    社交娱乐    就医   接送他人      其它\n",
       "0  866.248  367.704  0.0  35.331  55.644  6.17  4.867  15.478"
      ]
     },
     "execution_count": 22,
     "metadata": {},
     "output_type": "execute_result"
    }
   ],
   "source": [
    "worker_list = []\n",
    "worker_list.append(home_t)\n",
    "name_list = ['回家', '工作', '上学', '购物', '社交娱乐', '就医', '接送他人', '其它']\n",
    "worker_list.append(work_t)\n",
    "worker_list.append(school_t)\n",
    "worker_list.append(shopping_t)\n",
    "worker_list.append(recreation_t)\n",
    "worker_list.append(dailycare_t)\n",
    "worker_list.append(jiesong_t)\n",
    "worker_list.append(other_t)\n",
    "worker = pd.DataFrame([worker_list], columns=name_list)\n",
    "worker"
   ]
  },
  {
   "cell_type": "code",
   "execution_count": 54,
   "id": "a93a52a0",
   "metadata": {
    "ExecuteTime": {
     "end_time": "2021-11-21T06:08:32.374049Z",
     "start_time": "2021-11-21T06:08:32.355140Z"
    }
   },
   "outputs": [],
   "source": [
    "avarage_activity = worker.append(student)\n",
    "avarage_activity = avarage_activity.append(nonworker)\n",
    "# avarage_activity.rename({0: ['Worker', 'Student','Non Worker']}, axis='index')\n",
    "avarage_activity.to_csv('avarage_activity_time.csv')"
   ]
  },
  {
   "cell_type": "code",
   "execution_count": 75,
   "id": "215aef7c",
   "metadata": {
    "ExecuteTime": {
     "end_time": "2021-11-21T07:04:46.829127Z",
     "start_time": "2021-11-21T07:04:46.800888Z"
    }
   },
   "outputs": [
    {
     "data": {
      "text/html": [
       "<div>\n",
       "<style scoped>\n",
       "    .dataframe tbody tr th:only-of-type {\n",
       "        vertical-align: middle;\n",
       "    }\n",
       "\n",
       "    .dataframe tbody tr th {\n",
       "        vertical-align: top;\n",
       "    }\n",
       "\n",
       "    .dataframe thead th {\n",
       "        text-align: right;\n",
       "    }\n",
       "</style>\n",
       "<table border=\"1\" class=\"dataframe\">\n",
       "  <thead>\n",
       "    <tr style=\"text-align: right;\">\n",
       "      <th></th>\n",
       "      <th>回家</th>\n",
       "      <th>工作</th>\n",
       "      <th>上学</th>\n",
       "      <th>购物</th>\n",
       "      <th>社交娱乐</th>\n",
       "      <th>就医</th>\n",
       "      <th>接送他人</th>\n",
       "      <th>其它</th>\n",
       "    </tr>\n",
       "  </thead>\n",
       "  <tbody>\n",
       "    <tr>\n",
       "      <th>Worker</th>\n",
       "      <td>866.248</td>\n",
       "      <td>367.704</td>\n",
       "      <td>0.00</td>\n",
       "      <td>35.331</td>\n",
       "      <td>55.644</td>\n",
       "      <td>6.170</td>\n",
       "      <td>4.867</td>\n",
       "      <td>15.478</td>\n",
       "    </tr>\n",
       "    <tr>\n",
       "      <th>Student</th>\n",
       "      <td>879.271</td>\n",
       "      <td>37.880</td>\n",
       "      <td>394.81</td>\n",
       "      <td>16.155</td>\n",
       "      <td>30.947</td>\n",
       "      <td>1.266</td>\n",
       "      <td>2.965</td>\n",
       "      <td>7.701</td>\n",
       "    </tr>\n",
       "    <tr>\n",
       "      <th>Non Worker</th>\n",
       "      <td>1113.528</td>\n",
       "      <td>0.000</td>\n",
       "      <td>0.00</td>\n",
       "      <td>63.653</td>\n",
       "      <td>118.974</td>\n",
       "      <td>13.784</td>\n",
       "      <td>5.572</td>\n",
       "      <td>27.643</td>\n",
       "    </tr>\n",
       "  </tbody>\n",
       "</table>\n",
       "</div>"
      ],
      "text/plain": [
       "                  回家       工作      上学      购物     社交娱乐      就医   接送他人      其它\n",
       "Worker       866.248  367.704    0.00  35.331   55.644   6.170  4.867  15.478\n",
       "Student      879.271   37.880  394.81  16.155   30.947   1.266  2.965   7.701\n",
       "Non Worker  1113.528    0.000    0.00  63.653  118.974  13.784  5.572  27.643"
      ]
     },
     "execution_count": 75,
     "metadata": {},
     "output_type": "execute_result"
    }
   ],
   "source": [
    "x = pd.read_csv('avarage_activity_time.csv')\n",
    "del x['Unnamed: 0']\n",
    "x = x.rename({0: 'Worker', 1: 'Student', 2: 'Non Worker'}, axis='index')\n",
    "x"
   ]
  },
  {
   "cell_type": "code",
   "execution_count": null,
   "id": "f1b55d20",
   "metadata": {},
   "outputs": [],
   "source": []
  }
 ],
 "metadata": {
  "kernelspec": {
   "display_name": "Python [conda env:geo_env] *",
   "language": "python",
   "name": "conda-env-geo_env-py"
  },
  "language_info": {
   "codemirror_mode": {
    "name": "ipython",
    "version": 3
   },
   "file_extension": ".py",
   "mimetype": "text/x-python",
   "name": "python",
   "nbconvert_exporter": "python",
   "pygments_lexer": "ipython3",
   "version": "3.7.11"
  },
  "toc": {
   "base_numbering": 1,
   "nav_menu": {},
   "number_sections": true,
   "sideBar": true,
   "skip_h1_title": false,
   "title_cell": "Table of Contents",
   "title_sidebar": "Contents",
   "toc_cell": false,
   "toc_position": {},
   "toc_section_display": true,
   "toc_window_display": false
  },
  "varInspector": {
   "cols": {
    "lenName": 16,
    "lenType": 16,
    "lenVar": 40
   },
   "kernels_config": {
    "python": {
     "delete_cmd_postfix": "",
     "delete_cmd_prefix": "del ",
     "library": "var_list.py",
     "varRefreshCmd": "print(var_dic_list())"
    },
    "r": {
     "delete_cmd_postfix": ") ",
     "delete_cmd_prefix": "rm(",
     "library": "var_list.r",
     "varRefreshCmd": "cat(var_dic_list()) "
    }
   },
   "types_to_exclude": [
    "module",
    "function",
    "builtin_function_or_method",
    "instance",
    "_Feature"
   ],
   "window_display": false
  }
 },
 "nbformat": 4,
 "nbformat_minor": 5
}
